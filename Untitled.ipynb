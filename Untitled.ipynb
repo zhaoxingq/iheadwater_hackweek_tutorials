{
 "cells": [
  {
   "cell_type": "code",
   "execution_count": 3,
   "id": "06332aa4-7718-48cc-bd21-d0926c4630e9",
   "metadata": {},
   "outputs": [
    {
     "name": "stdout",
     "output_type": "stream",
     "text": [
      "hello world\n"
     ]
    }
   ],
   "source": [
    "print(\"hello world\")"
   ]
  },
  {
   "cell_type": "code",
   "execution_count": 4,
   "id": "2a33a42b-a4bc-4757-8689-68585f68c8fa",
   "metadata": {},
   "outputs": [
    {
     "name": "stdout",
     "output_type": "stream",
     "text": [
      "今天天气很好\n"
     ]
    }
   ],
   "source": [
    "print(\"今天天气很好\")"
   ]
  },
  {
   "cell_type": "markdown",
   "id": "45b472c4-7c74-40cd-993a-f43446f2f2ca",
   "metadata": {},
   "source": [
    "# 上面是一个输出 **hello world** 的代码"
   ]
  },
  {
   "cell_type": "markdown",
   "id": "c0751484-922e-40f2-9679-1e53ceb653e8",
   "metadata": {},
   "source": [
    "这是一个链接 [http://10.10.50.207:8888/battlecry-miku/iheadwater_hackweek_tutorials]\n",
    "- 我是第一\n",
    "- 我是第二                                                                                                                                      \n",
    "~~1. 今天天气很好~~  \n",
    "*2.明天天气也好*"
   ]
  },
  {
   "cell_type": "code",
   "execution_count": null,
   "id": "f2e391e5-133f-404b-b900-e317e29677a2",
   "metadata": {},
   "outputs": [],
   "source": []
  }
 ],
 "metadata": {
  "kernelspec": {
   "display_name": "Python (tutorial)",
   "language": "python",
   "name": "tutorial"
  },
  "language_info": {
   "codemirror_mode": {
    "name": "ipython",
    "version": 3
   },
   "file_extension": ".py",
   "mimetype": "text/x-python",
   "name": "python",
   "nbconvert_exporter": "python",
   "pygments_lexer": "ipython3",
   "version": "3.9.13"
  }
 },
 "nbformat": 4,
 "nbformat_minor": 5
}
