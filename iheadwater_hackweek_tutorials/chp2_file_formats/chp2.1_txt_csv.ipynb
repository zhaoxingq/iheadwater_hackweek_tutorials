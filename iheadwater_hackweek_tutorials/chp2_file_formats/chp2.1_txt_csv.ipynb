{
 "cells": [
  {
   "cell_type": "markdown",
   "id": "b6e35cbd-40d0-4466-be44-9db7e7af6257",
   "metadata": {},
   "source": [
    "# 文本类数据\n",
    "\n",
    "文本类（表格式）数据通常是指以行/列格式存储的数据。列（有时是行）通常由标题来标识，如果命名清晰，我们就很容易理解该行或列中的内容。\n",
    "\n",
    "例如我们已经熟悉的.xlsx类型的文件，使用excel我们能打开编辑它们。\n",
    "\n",
    "现在我们尝试用Python语言在平台上对xlsx，以及txt与csv进行读取和写入操作，大家看看就行，后续会有更全的实例，\n",
    "\n",
    "通过这种方式，能够将读取数据和分析融为一体，并自动化整个流程，方便研究成果的复现。\n",
    "\n",
    "有许多种读取文件的方式，我们可以不用任何工具包来打开数据，这是python自带的一种基本操作，即`open()`。我们也可以用工具包来打开，例如我们用`pandas`工具包来打开数据。后续介绍完Python编程基础后，我们会再针对这些内容进一步展开讨论，这里简单了解**读写**文件相关操作即可。\n",
    "\n",
    "## 1 .txt与.csv\n",
    "\n",
    "首先我们用`open`打开一个txt文件\n",
    "\n",
    "这个txt文件是从[GRDC全球径流数据网站](https://portal.grdc.bafg.de/applications/public.html?publicuser=PublicUser#dataDownload/Stations)上选择一个站点，把txt下载下来的。这里我们选择了长江流域上的一个小流域杂谷脑（ZAGUNAO）流域。\n",
    "\n",
    "![](../img/zagunao.png)\n",
    "\n",
    "可以申请下载该站点的日径流数据，我们已经下载好了。\n",
    "\n",
    "我们能看到数据格式就是txt格式：\n",
    "\n",
    "![](../img/zagunao_discharge.png)\n",
    "\n",
    "我们通过以下命令来打开文件:\n",
    "\n",
    "```Python\n",
    "file_object = open(filename, mode)\n",
    "```\n",
    "\n",
    "- filename ： 文件路径名 \n",
    "- mode ：告诉python我们对文件将执行读、写与追加等操作\n",
    "\n",
    "mode包括：\n",
    "\n",
    "- **'w' - Write Mode:** 清空文件内所有内容，然后写入数据，从文件的开头处进行写入的。\n",
    "- **'r' - Read Mode:** 当文件中的信息只是为了被读取而不做任何改变时，就会使用这种模式。从文件的开头开始读取。也是打开文件**默认**形式，**即不输入mode情况下，默认为r**\n",
    "- **'a' – 追加模式：** 此模式会自动将信息添加到文件末尾。\n",
    "- **'r+' – 读/写模式：** 想对文件进行更改并从中读取信息时，使用此选项。文件指针放置在文件的开头。\n",
    "- **'a+' - 追加和读取模式：** 打开文件以允许将数据添加到文件末尾，同时读取信息。文件指针放置在文件的末尾。\n",
    "\n",
    "这里我们用最简单的r模式来读取下载后简单处理的txt，我们会演示写内容到文件中，但一般不修改原始文件，所以我们接下来操作的是一个文件副本"
   ]
  },
  {
   "cell_type": "code",
   "execution_count": 1,
   "id": "eeff42cd-5c55-438b-afd1-8d731fc3fea6",
   "metadata": {
    "tags": []
   },
   "outputs": [],
   "source": [
    "#打开txt文件\n",
    "file = open('../data/2181200_Q_Day.Cmd.txt','r')"
   ]
  },
  {
   "cell_type": "markdown",
   "id": "8f9dc436-73d5-45a6-a34e-77ae5d3a50e5",
   "metadata": {},
   "source": [
    "注意路径采用了相对路径，**相对路径：是指以当前文件资源所在的目录为参照基础，链接到目标文件资源(或文件夹)的路径。**\n",
    "\n",
    "在表示相对路径中，单点表示当前目录，双点表示上一级目录，反斜杠\"/\"表示分隔目录；\n",
    "\n",
    "相对路径特殊符号有以下几种表示意义：\n",
    "\n",
    "- 以\"./\"开头，代表当前目录和文件目录在同一个目录里，\"./\"也可以省略不写！\n",
    "\n",
    "- 以\"../\"开头：向上走一级，代表目标文件在当前文件所在的上一级目录；\n",
    "\n",
    "- 以\"../../\"开头：向上走两级，代表父级的父级目录，也就是上上级目录，再说明白点，就是上一级目录的上一级目录\n",
    "\n",
    "- 以\"/\"开头，代表根目录"
   ]
  },
  {
   "cell_type": "code",
   "execution_count": 2,
   "id": "3289ea15-4eeb-4199-9cb3-db6842b8f123",
   "metadata": {},
   "outputs": [],
   "source": [
    "#关闭文件\n",
    "file.close()"
   ]
  },
  {
   "cell_type": "markdown",
   "id": "baaee99a-b7f2-4dbd-a6e3-174cad54c0e7",
   "metadata": {},
   "source": [
    "我们关闭一个文件后，就不能再访问它了，除非重新打开它。关闭后未重新打开，我们再读取的话，将出现一个异常：ValueError"
   ]
  },
  {
   "cell_type": "code",
   "execution_count": 3,
   "id": "6e19d301-bd8c-418b-ae47-c73a8865be00",
   "metadata": {},
   "outputs": [
    {
     "ename": "ValueError",
     "evalue": "I/O operation on closed file.",
     "output_type": "error",
     "traceback": [
      "\u001b[1;31m---------------------------------------------------------------------------\u001b[0m",
      "\u001b[1;31mValueError\u001b[0m                                Traceback (most recent call last)",
      "Cell \u001b[1;32mIn [3], line 1\u001b[0m\n\u001b[1;32m----> 1\u001b[0m file\u001b[38;5;241m.\u001b[39mread()\n",
      "\u001b[1;31mValueError\u001b[0m: I/O operation on closed file."
     ]
    }
   ],
   "source": [
    "file.read()"
   ]
  },
  {
   "cell_type": "markdown",
   "id": "a632d0f5-1c5b-4257-a68d-fdb0e7220927",
   "metadata": {
    "tags": []
   },
   "source": [
    "**在python中，打开和关闭文件的最佳做法是使用 with 关键字。**\n",
    "\n",
    "这个关键字会在嵌套的代码块**完成后**自动关闭文件。"
   ]
  },
  {
   "cell_type": "code",
   "execution_count": 5,
   "id": "45465708-2d1f-48ef-bba3-c970af0529e0",
   "metadata": {
    "tags": []
   },
   "outputs": [],
   "source": [
    "#读取文件\n",
    "with open(\"../data/2181200_Q_Day.Cmd.txt\", \"r\") as work_data:\n",
    "    file = work_data.read()"
   ]
  },
  {
   "cell_type": "markdown",
   "id": "0d788be6-cd36-470e-931b-8e836551461e",
   "metadata": {},
   "source": [
    "如果我们想要写数据到txt文件中，可以用\"a+\"模式，即在末尾加内容。\n",
    "\n",
    "但是通常我们不直接修改原始数据文件，所以如果我们想写入一些内容，比较好的做法是重新copy一个文件，然后在新文件里做修改。\n",
    "\n"
   ]
  },
  {
   "cell_type": "code",
   "execution_count": 6,
   "id": "c0e8e547-6c7b-4fcf-a546-2a47c6bc3ecc",
   "metadata": {},
   "outputs": [],
   "source": [
    "import shutil"
   ]
  },
  {
   "cell_type": "code",
   "execution_count": 7,
   "id": "0bbd4b4b-3c6b-4ecc-8d5e-c15ba3f55f53",
   "metadata": {},
   "outputs": [
    {
     "data": {
      "text/plain": [
       "'../data/2181200_Q_Day.Cmd_modified.txt'"
      ]
     },
     "execution_count": 7,
     "metadata": {},
     "output_type": "execute_result"
    }
   ],
   "source": [
    "shutil.copy(\"../data/2181200_Q_Day.Cmd.txt\", \"../data/2181200_Q_Day.Cmd_modified.txt\")"
   ]
  },
  {
   "cell_type": "markdown",
   "id": "d71317f9-c39b-43df-a9c4-c2936690bdd3",
   "metadata": {},
   "source": [
    "现在我们可以将`Above is the full data`追加到txt中"
   ]
  },
  {
   "cell_type": "code",
   "execution_count": 8,
   "id": "bc8227bd-06b8-4173-b196-ce2c05c10b68",
   "metadata": {},
   "outputs": [],
   "source": [
    "with open(\"../data/2181200_Q_Day.Cmd_modified.txt\", \"a+\") as work_data:\n",
    "    file = work_data.write(\"\\nAbove is the full data\")"
   ]
  },
  {
   "cell_type": "markdown",
   "id": "de11d2dc-eb25-4954-aa58-556c9d42e759",
   "metadata": {},
   "source": [
    "`\\n`另起一行的意思\n",
    "\n",
    "打开txt文件，下拉到最后一行，会发现我们写入的字句"
   ]
  },
  {
   "cell_type": "markdown",
   "id": "dc30bb29-f6e9-4986-861e-547900bbb9fb",
   "metadata": {
    "tags": []
   },
   "source": [
    "接下来看看CSV (Comma Separated Values)，CSV即逗号分隔值（也称字符分隔值，因为分隔符可以不是逗号），是一种常用的文本格式，用以存储表格数据，包括数字或者字符。\n",
    "\n",
    "我们在[国家地球系统科学信息中心](http://www.geodata.cn/data/datadetails.html?dataguid=111466280813929&docid=15803)下载黄河流域主要水文站汛期次降水数据集的样本，用于读写演示。\n",
    "\n",
    "不过这里我们不再使用python原装的代码了，而是使用pandas包来帮助我们读取数据，pandas是python下很常用的一个包，后面我们还会介绍"
   ]
  },
  {
   "cell_type": "code",
   "execution_count": 9,
   "id": "4988a119-9047-48cd-97be-a4f826a3c821",
   "metadata": {},
   "outputs": [],
   "source": [
    "import pandas as pd"
   ]
  },
  {
   "cell_type": "code",
   "execution_count": 10,
   "id": "c4d61df4-e927-4d1d-bfab-7f7abb3244ea",
   "metadata": {},
   "outputs": [
    {
     "data": {
      "text/html": [
       "<div>\n",
       "<style scoped>\n",
       "    .dataframe tbody tr th:only-of-type {\n",
       "        vertical-align: middle;\n",
       "    }\n",
       "\n",
       "    .dataframe tbody tr th {\n",
       "        vertical-align: top;\n",
       "    }\n",
       "\n",
       "    .dataframe thead th {\n",
       "        text-align: right;\n",
       "    }\n",
       "</style>\n",
       "<table border=\"1\" class=\"dataframe\">\n",
       "  <thead>\n",
       "    <tr style=\"text-align: right;\">\n",
       "      <th></th>\n",
       "      <th>站名</th>\n",
       "      <th>年-月-日</th>\n",
       "      <th>起</th>\n",
       "      <th>止</th>\n",
       "      <th>降雨量（mm)</th>\n",
       "    </tr>\n",
       "  </thead>\n",
       "  <tbody>\n",
       "    <tr>\n",
       "      <th>0</th>\n",
       "      <td>北洛河大荔站</td>\n",
       "      <td>1990/6/7</td>\n",
       "      <td>1:00</td>\n",
       "      <td>2:00</td>\n",
       "      <td>0.1</td>\n",
       "    </tr>\n",
       "    <tr>\n",
       "      <th>1</th>\n",
       "      <td>北洛河大荔站</td>\n",
       "      <td>1990/6/7</td>\n",
       "      <td>2:00</td>\n",
       "      <td>8:00</td>\n",
       "      <td>8.6</td>\n",
       "    </tr>\n",
       "    <tr>\n",
       "      <th>2</th>\n",
       "      <td>北洛河大荔站</td>\n",
       "      <td>1990/6/7</td>\n",
       "      <td>8:00</td>\n",
       "      <td>11:00</td>\n",
       "      <td>0.6</td>\n",
       "    </tr>\n",
       "    <tr>\n",
       "      <th>3</th>\n",
       "      <td>北洛河大荔站</td>\n",
       "      <td>1990/6/10</td>\n",
       "      <td>19:00</td>\n",
       "      <td>20:00</td>\n",
       "      <td>0.1</td>\n",
       "    </tr>\n",
       "    <tr>\n",
       "      <th>4</th>\n",
       "      <td>北洛河大荔站</td>\n",
       "      <td>1990/6/10</td>\n",
       "      <td>20:00</td>\n",
       "      <td>1:00</td>\n",
       "      <td>2.6</td>\n",
       "    </tr>\n",
       "    <tr>\n",
       "      <th>5</th>\n",
       "      <td>北洛河大荔站</td>\n",
       "      <td>1990/6/14</td>\n",
       "      <td>7:00</td>\n",
       "      <td>8:00</td>\n",
       "      <td>1.5</td>\n",
       "    </tr>\n",
       "    <tr>\n",
       "      <th>6</th>\n",
       "      <td>北洛河大荔站</td>\n",
       "      <td>1990/6/14</td>\n",
       "      <td>8:00</td>\n",
       "      <td>9:00</td>\n",
       "      <td>3.6</td>\n",
       "    </tr>\n",
       "    <tr>\n",
       "      <th>7</th>\n",
       "      <td>北洛河大荔站</td>\n",
       "      <td>1990/6/14</td>\n",
       "      <td>9:00</td>\n",
       "      <td>14:00</td>\n",
       "      <td>0.5</td>\n",
       "    </tr>\n",
       "    <tr>\n",
       "      <th>8</th>\n",
       "      <td>北洛河大荔站</td>\n",
       "      <td>1990/6/14</td>\n",
       "      <td>14:00</td>\n",
       "      <td>18:00</td>\n",
       "      <td>0.2</td>\n",
       "    </tr>\n",
       "    <tr>\n",
       "      <th>9</th>\n",
       "      <td>北洛河大荔站</td>\n",
       "      <td>1990/6/17</td>\n",
       "      <td>11:00</td>\n",
       "      <td>14:00</td>\n",
       "      <td>3.4</td>\n",
       "    </tr>\n",
       "    <tr>\n",
       "      <th>10</th>\n",
       "      <td>北洛河大荔站</td>\n",
       "      <td>1990/6/17</td>\n",
       "      <td>14:00</td>\n",
       "      <td>16:00</td>\n",
       "      <td>1.1</td>\n",
       "    </tr>\n",
       "  </tbody>\n",
       "</table>\n",
       "</div>"
      ],
      "text/plain": [
       "        站名      年-月-日      起      止  降雨量（mm)\n",
       "0   北洛河大荔站   1990/6/7   1:00   2:00      0.1\n",
       "1   北洛河大荔站   1990/6/7   2:00   8:00      8.6\n",
       "2   北洛河大荔站   1990/6/7   8:00  11:00      0.6\n",
       "3   北洛河大荔站  1990/6/10  19:00  20:00      0.1\n",
       "4   北洛河大荔站  1990/6/10  20:00   1:00      2.6\n",
       "5   北洛河大荔站  1990/6/14   7:00   8:00      1.5\n",
       "6   北洛河大荔站  1990/6/14   8:00   9:00      3.6\n",
       "7   北洛河大荔站  1990/6/14   9:00  14:00      0.5\n",
       "8   北洛河大荔站  1990/6/14  14:00  18:00      0.2\n",
       "9   北洛河大荔站  1990/6/17  11:00  14:00      3.4\n",
       "10  北洛河大荔站  1990/6/17  14:00  16:00      1.1"
      ]
     },
     "execution_count": 10,
     "metadata": {},
     "output_type": "execute_result"
    }
   ],
   "source": [
    "csv_file = '../data/pre_test.csv'\n",
    "csv_data = pd.read_csv(csv_file)\n",
    "csv_data"
   ]
  },
  {
   "cell_type": "markdown",
   "id": "33524fd9-4c69-404a-b10e-74cd383b9bd9",
   "metadata": {},
   "source": [
    "## 2 .xlsx文件"
   ]
  },
  {
   "cell_type": "markdown",
   "id": "805e9ce1-a44b-4e1c-93a2-8ab5d1e911d7",
   "metadata": {},
   "source": [
    "excel文件是大家最熟悉的了，用Pandas读取xlsx非常轻松，xlsx内容被读取并打包到一个DataFrame中，然后我们可以通过`head()`函数进行预览。这里简单介绍DataFrame是什么。\n",
    "\n",
    "DataFrame 是一个表格型的数据结构。DataFrame 由三个部分组成：data、columns和rows。\n",
    "\n",
    "![](../img/dataframe.jpg)\n",
    "\n",
    "- data: 不同类型的数据。以后章节会接受python的数据类型\n",
    "- rows: 行标签，用于索引，从0开始\n",
    "- columns: 列标签，也是从0开始\n",
    "\n",
    "DataFrame 为了方便我们读取、存储、编辑文件。现在我们读取我们下载好的.xlsx文件"
   ]
  },
  {
   "cell_type": "code",
   "execution_count": 6,
   "id": "50a04c35-255b-472c-bb4d-a917a7f3ac89",
   "metadata": {
    "tags": []
   },
   "outputs": [
    {
     "data": {
      "text/html": [
       "<div>\n",
       "<style scoped>\n",
       "    .dataframe tbody tr th:only-of-type {\n",
       "        vertical-align: middle;\n",
       "    }\n",
       "\n",
       "    .dataframe tbody tr th {\n",
       "        vertical-align: top;\n",
       "    }\n",
       "\n",
       "    .dataframe thead th {\n",
       "        text-align: right;\n",
       "    }\n",
       "</style>\n",
       "<table border=\"1\" class=\"dataframe\">\n",
       "  <thead>\n",
       "    <tr style=\"text-align: right;\">\n",
       "      <th></th>\n",
       "      <th>站名</th>\n",
       "      <th>年-月-日</th>\n",
       "      <th>起</th>\n",
       "      <th>止</th>\n",
       "      <th>降雨量（mm)</th>\n",
       "    </tr>\n",
       "  </thead>\n",
       "  <tbody>\n",
       "    <tr>\n",
       "      <th>0</th>\n",
       "      <td>北洛河大荔站</td>\n",
       "      <td>1990-06-07</td>\n",
       "      <td>01:00:00</td>\n",
       "      <td>02:00:00</td>\n",
       "      <td>0.1</td>\n",
       "    </tr>\n",
       "    <tr>\n",
       "      <th>1</th>\n",
       "      <td>北洛河大荔站</td>\n",
       "      <td>1990-06-07</td>\n",
       "      <td>02:00:00</td>\n",
       "      <td>08:00:00</td>\n",
       "      <td>8.6</td>\n",
       "    </tr>\n",
       "    <tr>\n",
       "      <th>2</th>\n",
       "      <td>北洛河大荔站</td>\n",
       "      <td>1990-06-07</td>\n",
       "      <td>08:00:00</td>\n",
       "      <td>11:00:00</td>\n",
       "      <td>0.6</td>\n",
       "    </tr>\n",
       "    <tr>\n",
       "      <th>3</th>\n",
       "      <td>北洛河大荔站</td>\n",
       "      <td>1990-06-10</td>\n",
       "      <td>19:00:00</td>\n",
       "      <td>20:00:00</td>\n",
       "      <td>0.1</td>\n",
       "    </tr>\n",
       "    <tr>\n",
       "      <th>4</th>\n",
       "      <td>北洛河大荔站</td>\n",
       "      <td>1990-06-10</td>\n",
       "      <td>20:00:00</td>\n",
       "      <td>01:00:00</td>\n",
       "      <td>2.6</td>\n",
       "    </tr>\n",
       "  </tbody>\n",
       "</table>\n",
       "</div>"
      ],
      "text/plain": [
       "       站名      年-月-日         起         止  降雨量（mm)\n",
       "0  北洛河大荔站 1990-06-07  01:00:00  02:00:00      0.1\n",
       "1  北洛河大荔站 1990-06-07  02:00:00  08:00:00      8.6\n",
       "2  北洛河大荔站 1990-06-07  08:00:00  11:00:00      0.6\n",
       "3  北洛河大荔站 1990-06-10  19:00:00  20:00:00      0.1\n",
       "4  北洛河大荔站 1990-06-10  20:00:00  01:00:00      2.6"
      ]
     },
     "execution_count": 6,
     "metadata": {},
     "output_type": "execute_result"
    }
   ],
   "source": [
    "import pandas as pd\n",
    "df = pd.read_excel(\"../data/pre_test.xlsx\")\n",
    "df.head()"
   ]
  },
  {
   "cell_type": "markdown",
   "id": "397d7fd1-6e28-4d58-ad84-523dae492c73",
   "metadata": {},
   "source": [
    "**读取指定列**\n",
    "\n",
    "我们给`read_excel()`函数传递一个`usecols`参数，这个参数将根据选择的列进行读取文件"
   ]
  },
  {
   "cell_type": "code",
   "execution_count": 12,
   "id": "d188a55f-2118-431e-b2e3-7856f2330059",
   "metadata": {
    "tags": []
   },
   "outputs": [
    {
     "data": {
      "text/html": [
       "<div>\n",
       "<style scoped>\n",
       "    .dataframe tbody tr th:only-of-type {\n",
       "        vertical-align: middle;\n",
       "    }\n",
       "\n",
       "    .dataframe tbody tr th {\n",
       "        vertical-align: top;\n",
       "    }\n",
       "\n",
       "    .dataframe thead th {\n",
       "        text-align: right;\n",
       "    }\n",
       "</style>\n",
       "<table border=\"1\" class=\"dataframe\">\n",
       "  <thead>\n",
       "    <tr style=\"text-align: right;\">\n",
       "      <th></th>\n",
       "      <th>站名</th>\n",
       "      <th>年-月-日</th>\n",
       "      <th>降雨量（mm)</th>\n",
       "    </tr>\n",
       "  </thead>\n",
       "  <tbody>\n",
       "    <tr>\n",
       "      <th>0</th>\n",
       "      <td>北洛河大荔站</td>\n",
       "      <td>1990-06-07</td>\n",
       "      <td>0.1</td>\n",
       "    </tr>\n",
       "    <tr>\n",
       "      <th>1</th>\n",
       "      <td>北洛河大荔站</td>\n",
       "      <td>1990-06-07</td>\n",
       "      <td>8.6</td>\n",
       "    </tr>\n",
       "    <tr>\n",
       "      <th>2</th>\n",
       "      <td>北洛河大荔站</td>\n",
       "      <td>1990-06-07</td>\n",
       "      <td>0.6</td>\n",
       "    </tr>\n",
       "    <tr>\n",
       "      <th>3</th>\n",
       "      <td>北洛河大荔站</td>\n",
       "      <td>1990-06-10</td>\n",
       "      <td>0.1</td>\n",
       "    </tr>\n",
       "    <tr>\n",
       "      <th>4</th>\n",
       "      <td>北洛河大荔站</td>\n",
       "      <td>1990-06-10</td>\n",
       "      <td>2.6</td>\n",
       "    </tr>\n",
       "  </tbody>\n",
       "</table>\n",
       "</div>"
      ],
      "text/plain": [
       "       站名      年-月-日  降雨量（mm)\n",
       "0  北洛河大荔站 1990-06-07      0.1\n",
       "1  北洛河大荔站 1990-06-07      8.6\n",
       "2  北洛河大荔站 1990-06-07      0.6\n",
       "3  北洛河大荔站 1990-06-10      0.1\n",
       "4  北洛河大荔站 1990-06-10      2.6"
      ]
     },
     "execution_count": 12,
     "metadata": {},
     "output_type": "execute_result"
    }
   ],
   "source": [
    "cols = [0, 1, 4]\n",
    "students_grades = pd.read_excel('../data/pre_test.xlsx', usecols=cols)\n",
    "students_grades.head()"
   ]
  },
  {
   "cell_type": "markdown",
   "id": "65815a24-c994-4d7b-a950-13e140ab487f",
   "metadata": {},
   "source": [
    "读取过后，我们也可将 DataFrame 写入 xlsx 文件中。"
   ]
  },
  {
   "cell_type": "code",
   "execution_count": 13,
   "id": "61b15a98",
   "metadata": {},
   "outputs": [],
   "source": [
    "import pandas as pd\n",
    "df = pd.read_excel(\"../data/pre_test.xlsx\")\n",
    "df.to_excel(\"../data/pre_test_modified.xlsx\", sheet_name=\"Sheet1\", index=False, engine=\"openpyxl\")"
   ]
  },
  {
   "cell_type": "code",
   "execution_count": 14,
   "id": "e43601dc-69be-4502-bf44-56e23d470611",
   "metadata": {
    "tags": []
   },
   "outputs": [
    {
     "data": {
      "text/html": [
       "<div>\n",
       "<style scoped>\n",
       "    .dataframe tbody tr th:only-of-type {\n",
       "        vertical-align: middle;\n",
       "    }\n",
       "\n",
       "    .dataframe tbody tr th {\n",
       "        vertical-align: top;\n",
       "    }\n",
       "\n",
       "    .dataframe thead th {\n",
       "        text-align: right;\n",
       "    }\n",
       "</style>\n",
       "<table border=\"1\" class=\"dataframe\">\n",
       "  <thead>\n",
       "    <tr style=\"text-align: right;\">\n",
       "      <th></th>\n",
       "      <th>站名</th>\n",
       "      <th>年-月-日</th>\n",
       "      <th>起</th>\n",
       "      <th>止</th>\n",
       "      <th>降雨量（mm)</th>\n",
       "    </tr>\n",
       "  </thead>\n",
       "  <tbody>\n",
       "    <tr>\n",
       "      <th>0</th>\n",
       "      <td>True</td>\n",
       "      <td>True</td>\n",
       "      <td>False</td>\n",
       "      <td>False</td>\n",
       "      <td>True</td>\n",
       "    </tr>\n",
       "    <tr>\n",
       "      <th>1</th>\n",
       "      <td>True</td>\n",
       "      <td>True</td>\n",
       "      <td>False</td>\n",
       "      <td>False</td>\n",
       "      <td>True</td>\n",
       "    </tr>\n",
       "    <tr>\n",
       "      <th>2</th>\n",
       "      <td>True</td>\n",
       "      <td>True</td>\n",
       "      <td>False</td>\n",
       "      <td>False</td>\n",
       "      <td>True</td>\n",
       "    </tr>\n",
       "    <tr>\n",
       "      <th>3</th>\n",
       "      <td>True</td>\n",
       "      <td>True</td>\n",
       "      <td>False</td>\n",
       "      <td>False</td>\n",
       "      <td>True</td>\n",
       "    </tr>\n",
       "    <tr>\n",
       "      <th>4</th>\n",
       "      <td>True</td>\n",
       "      <td>True</td>\n",
       "      <td>False</td>\n",
       "      <td>False</td>\n",
       "      <td>True</td>\n",
       "    </tr>\n",
       "    <tr>\n",
       "      <th>5</th>\n",
       "      <td>True</td>\n",
       "      <td>True</td>\n",
       "      <td>False</td>\n",
       "      <td>False</td>\n",
       "      <td>True</td>\n",
       "    </tr>\n",
       "    <tr>\n",
       "      <th>6</th>\n",
       "      <td>True</td>\n",
       "      <td>True</td>\n",
       "      <td>False</td>\n",
       "      <td>False</td>\n",
       "      <td>True</td>\n",
       "    </tr>\n",
       "    <tr>\n",
       "      <th>7</th>\n",
       "      <td>True</td>\n",
       "      <td>True</td>\n",
       "      <td>False</td>\n",
       "      <td>False</td>\n",
       "      <td>True</td>\n",
       "    </tr>\n",
       "    <tr>\n",
       "      <th>8</th>\n",
       "      <td>True</td>\n",
       "      <td>True</td>\n",
       "      <td>False</td>\n",
       "      <td>False</td>\n",
       "      <td>True</td>\n",
       "    </tr>\n",
       "    <tr>\n",
       "      <th>9</th>\n",
       "      <td>True</td>\n",
       "      <td>True</td>\n",
       "      <td>False</td>\n",
       "      <td>False</td>\n",
       "      <td>True</td>\n",
       "    </tr>\n",
       "    <tr>\n",
       "      <th>10</th>\n",
       "      <td>True</td>\n",
       "      <td>True</td>\n",
       "      <td>False</td>\n",
       "      <td>False</td>\n",
       "      <td>True</td>\n",
       "    </tr>\n",
       "  </tbody>\n",
       "</table>\n",
       "</div>"
      ],
      "text/plain": [
       "      站名  年-月-日      起      止  降雨量（mm)\n",
       "0   True   True  False  False     True\n",
       "1   True   True  False  False     True\n",
       "2   True   True  False  False     True\n",
       "3   True   True  False  False     True\n",
       "4   True   True  False  False     True\n",
       "5   True   True  False  False     True\n",
       "6   True   True  False  False     True\n",
       "7   True   True  False  False     True\n",
       "8   True   True  False  False     True\n",
       "9   True   True  False  False     True\n",
       "10  True   True  False  False     True"
      ]
     },
     "execution_count": 14,
     "metadata": {},
     "output_type": "execute_result"
    }
   ],
   "source": [
    "df_new = pd.read_excel(\"../data/pre_test_modified.xlsx\")\n",
    "df_new == df"
   ]
  },
  {
   "cell_type": "markdown",
   "id": "593c8759-2fa5-4af0-bdc6-0c7468979bc6",
   "metadata": {},
   "source": [
    "以上就是对常见的文本类（表格式）数据与用Python对其进行**读写**的简介\n",
    "\n",
    "接下来我们就来了解一下空间类型的数据"
   ]
  }
 ],
 "metadata": {
  "kernelspec": {
   "display_name": "Python (tutorial)",
   "language": "python",
   "name": "tutorial"
  },
  "language_info": {
   "codemirror_mode": {
    "name": "ipython",
    "version": 3
   },
   "file_extension": ".py",
   "mimetype": "text/x-python",
   "name": "python",
   "nbconvert_exporter": "python",
   "pygments_lexer": "ipython3",
   "version": "3.9.13"
  }
 },
 "nbformat": 4,
 "nbformat_minor": 5
}
